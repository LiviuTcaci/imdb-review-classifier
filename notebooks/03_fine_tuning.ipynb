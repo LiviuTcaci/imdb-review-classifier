{
 "cells": [
  {
   "cell_type": "markdown",
   "metadata": {},
   "source": [
    "# IMDb Review Classifier - Fine-Tuning DistilBERT\n",
    "In this notebook we implement the training of the DistilBERT model"
   ]
  },
  {
   "cell_type": "markdown",
   "metadata": {},
   "source": [
    "# 1. SETUP & CONFIGURATION"
   ]
  },
  {
   "cell_type": "code",
   "execution_count": 27,
   "metadata": {},
   "outputs": [],
   "source": [
    "# Cell 1: Imports and Configuration\n",
    "import torch\n",
    "from torch.utils.tensorboard import SummaryWriter\n",
    "from tqdm.auto import tqdm\n",
    "import numpy as np\n",
    "import os\n",
    "import json\n",
    "from datetime import datetime\n",
    "import sys\n",
    "sys.path.append('..')\n",
    "from src.preprocess import clean_text\n",
    "\n",
    "# Visualization style configuration\n",
    "import matplotlib.pyplot as plt\n",
    "import seaborn as sns\n",
    "sns.set_theme(style=\"whitegrid\")           \n",
    "plt.rcParams['figure.figsize'] = (10, 6)    \n",
    "plt.rcParams['axes.labelsize'] = 12         \n",
    "plt.rcParams['axes.titlesize'] = 14   "
   ]
  },
  {
   "cell_type": "markdown",
   "metadata": {},
   "source": [
    "# 2. HARDWARE & TRAINING CONFIGURATION"
   ]
  },
  {
   "cell_type": "code",
   "execution_count": 7,
   "metadata": {},
   "outputs": [
    {
     "name": "stdout",
     "output_type": "stream",
     "text": [
      "\n",
      "Configuring hardware and training parameters...\n",
      "Using MPS (Metal Performance Shaders) for GPU acceleration\n",
      "Available GPU cores: 7\n",
      "Total number of CPU cores: 8\n",
      "Number of workers for data loading: 8\n"
     ]
    }
   ],
   "source": [
    "# Cell 2: Hardware Setup\n",
    "print(\"\\nConfiguring hardware and training parameters...\")\n",
    "\n",
    "# Configure device and number of workers\n",
    "import multiprocessing\n",
    "import subprocess\n",
    "\n",
    "# Get number of CPU cores\n",
    "total_cpu_cores = multiprocessing.cpu_count()\n",
    "\n",
    "# Get number of GPU cores for M1\n",
    "def get_m1_gpu_cores():\n",
    "    try:\n",
    "        output = subprocess.check_output(['system_profiler', 'SPDisplaysDataType']).decode()\n",
    "        for line in output.split('\\n'):\n",
    "            if 'Total Number of Cores:' in line:\n",
    "                return int(line.split(':')[1].strip())\n",
    "    except:\n",
    "        return 0\n",
    "    return 0\n",
    "\n",
    "total_gpu_cores = get_m1_gpu_cores()\n",
    "\n",
    "if torch.backends.mps.is_available():\n",
    "    device = torch.device(\"mps\")\n",
    "    num_workers = total_cpu_cores\n",
    "    print(f\"Using MPS (Metal Performance Shaders) for GPU acceleration\")\n",
    "    print(f\"Available GPU cores: {total_gpu_cores}\")\n",
    "elif torch.cuda.is_available():\n",
    "    device = torch.device(\"cuda\")\n",
    "    num_workers = total_cpu_cores\n",
    "    print(\"Using CUDA for GPU acceleration\")\n",
    "else:\n",
    "    device = torch.device(\"cpu\")\n",
    "    num_workers = total_cpu_cores\n",
    "    print(\"Using CPU (no GPU available)\")\n",
    "\n",
    "print(f\"Total number of CPU cores: {total_cpu_cores}\")\n",
    "print(f\"Number of workers for data loading: {num_workers}\")"
   ]
  },
  {
   "cell_type": "code",
   "execution_count": 8,
   "metadata": {},
   "outputs": [
    {
     "name": "stdout",
     "output_type": "stream",
     "text": [
      "\n",
      "Parametri de training:\n",
      "Batch size: 16\n",
      "Număr epoci: 2\n",
      "Learning rate: 1e-05\n",
      "Weight decay: 0.02\n",
      "Max gradient norm: 1.0\n",
      "Warmup ratio: 0.2\n",
      "Max sequence length: 384\n",
      "Gradient accumulation steps: 2\n"
     ]
    }
   ],
   "source": [
    "# Cell 3: Training Parameters\n",
    "# Configure training parameters\n",
    "batch_size = 16\n",
    "num_epochs = 2\n",
    "learning_rate = 1e-5\n",
    "weight_decay = 0.02\n",
    "max_grad_norm = 1.0\n",
    "warmup_ratio = 0.2\n",
    "max_length = 384 #or 512\n",
    "gradient_accumulation_steps = 2\n",
    "\n",
    "print(\"\\nParametri de training:\")\n",
    "print(f\"Batch size: {batch_size}\")\n",
    "print(f\"Număr epoci: {num_epochs}\")\n",
    "print(f\"Learning rate: {learning_rate}\")\n",
    "print(f\"Weight decay: {weight_decay}\")\n",
    "print(f\"Max gradient norm: {max_grad_norm}\")\n",
    "print(f\"Warmup ratio: {warmup_ratio}\")\n",
    "print(f\"Max sequence length: {max_length}\")\n",
    "print(f\"Gradient accumulation steps: {gradient_accumulation_steps}\")"
   ]
  },
  {
   "cell_type": "markdown",
   "metadata": {},
   "source": [
    "# 3. MODEL & DATA LOADING"
   ]
  },
  {
   "cell_type": "code",
   "execution_count": 9,
   "metadata": {},
   "outputs": [
    {
     "name": "stdout",
     "output_type": "stream",
     "text": [
      "\n",
      "Loading model and tokenizer...\n",
      "Setting PyTorch number of threads to: 8\n"
     ]
    },
    {
     "name": "stderr",
     "output_type": "stream",
     "text": [
      "Some weights of DistilBertForSequenceClassification were not initialized from the model checkpoint at distilbert-base-uncased and are newly initialized: ['classifier.bias', 'classifier.weight', 'pre_classifier.bias', 'pre_classifier.weight']\n",
      "You should probably TRAIN this model on a down-stream task to be able to use it for predictions and inference.\n"
     ]
    }
   ],
   "source": [
    "# Cell 4: Model and Tokenizer Setup\n",
    "print(\"\\nLoading model and tokenizer...\")\n",
    "from transformers import AutoModelForSequenceClassification, AutoTokenizer\n",
    "\n",
    "# Set number of threads for parallelization\n",
    "torch.set_num_threads(num_workers)\n",
    "print(f\"Setting PyTorch number of threads to: {num_workers}\")\n",
    "\n",
    "# Load tokenizer and model\n",
    "tokenizer = AutoTokenizer.from_pretrained(\"distilbert-base-uncased\")\n",
    "model = AutoModelForSequenceClassification.from_pretrained(\n",
    "    \"distilbert-base-uncased\",\n",
    "    num_labels=2,\n",
    "    dropout=0.2\n",
    ")\n",
    "model = model.to(device)"
   ]
  },
  {
   "cell_type": "code",
   "execution_count": 10,
   "metadata": {},
   "outputs": [
    {
     "name": "stdout",
     "output_type": "stream",
     "text": [
      "\n",
      "Loading and preparing the dataset...\n",
      "Number of processes for dataset loading: 8\n"
     ]
    }
   ],
   "source": [
    "# Cell 5: Dataset Loading and Preparation\n",
    "print(\"\\nLoading and preparing the dataset...\")\n",
    "from datasets import load_dataset\n",
    "from torch.utils.data import DataLoader\n",
    "from transformers import DataCollatorWithPadding\n",
    "\n",
    "# Use all CPU cores for dataset loading\n",
    "dataset_num_proc = total_cpu_cores\n",
    "print(f\"Number of processes for dataset loading: {dataset_num_proc}\")\n",
    "\n",
    "# Load dataset with maximum parallelization\n",
    "raw_ds = load_dataset(\"imdb\", num_proc=dataset_num_proc)\n",
    "\n",
    "# Maintain the same split structure as in EDA\n",
    "split1 = raw_ds[\"train\"].train_test_split(\n",
    "    test_size=0.30,\n",
    "    seed=42,\n",
    "    stratify_by_column=\"label\"\n",
    ")\n",
    "train_ds = split1[\"train\"]\n",
    "temp_ds = split1[\"test\"]\n",
    "\n",
    "split2 = temp_ds.train_test_split(\n",
    "    test_size=0.50,\n",
    "    seed=42,\n",
    "    stratify_by_column=\"label\"\n",
    ")\n",
    "val_ds = split2[\"train\"]\n",
    "test_ds = split2[\"test\"]"
   ]
  },
  {
   "cell_type": "code",
   "execution_count": 11,
   "metadata": {},
   "outputs": [
    {
     "name": "stdout",
     "output_type": "stream",
     "text": [
      "\n",
      "Preprocessing the data...\n",
      "Tokenizing datasets...\n"
     ]
    }
   ],
   "source": [
    "# Cell 6: Data Preprocessing\n",
    "print(\"\\nPreprocessing the data...\")\n",
    "\n",
    "def preprocess_fn(examples):\n",
    "    # Clean the text\n",
    "    texts = [clean_text(text) for text in examples[\"text\"]]\n",
    "    \n",
    "    # Tokenize without padding\n",
    "    tokenized = tokenizer(\n",
    "        texts,\n",
    "        truncation=True,\n",
    "        max_length=max_length,\n",
    "        padding=False,\n",
    "        return_tensors=None\n",
    "    )\n",
    "    \n",
    "    # Add labels\n",
    "    tokenized[\"labels\"] = examples[\"label\"]\n",
    "    \n",
    "    return tokenized\n",
    "\n",
    "# Apply preprocessing with parallelization\n",
    "print(\"Tokenizing datasets...\")\n",
    "train_ds = train_ds.map(\n",
    "    preprocess_fn, \n",
    "    batched=True, \n",
    "    remove_columns=[\"text\"],\n",
    "    num_proc=num_workers\n",
    ")\n",
    "val_ds = val_ds.map(\n",
    "    preprocess_fn, \n",
    "    batched=True, \n",
    "    remove_columns=[\"text\"],\n",
    "    num_proc=num_workers\n",
    ")\n",
    "test_ds = test_ds.map(\n",
    "    preprocess_fn, \n",
    "    batched=True, \n",
    "    remove_columns=[\"text\"],\n",
    "    num_proc=num_workers\n",
    ")"
   ]
  },
  {
   "cell_type": "code",
   "execution_count": 12,
   "metadata": {},
   "outputs": [
    {
     "name": "stdout",
     "output_type": "stream",
     "text": [
      "\n",
      "Setting up DataLoaders...\n",
      "\n",
      "DataLoader sizes:\n",
      "Training batches: 1094\n",
      "Validation batches: 235\n",
      "Test batches: 235\n"
     ]
    }
   ],
   "source": [
    "# Cell 7: DataLoader Setup\n",
    "print(\"\\nSetting up DataLoaders...\")\n",
    "\n",
    "# Set PyTorch format\n",
    "train_ds.set_format(type=\"torch\", columns=[\"input_ids\", \"attention_mask\", \"labels\"])\n",
    "val_ds.set_format(type=\"torch\", columns=[\"input_ids\", \"attention_mask\", \"labels\"])\n",
    "test_ds.set_format(type=\"torch\", columns=[\"input_ids\", \"attention_mask\", \"labels\"])\n",
    "\n",
    "# Create data collator for dynamic padding\n",
    "data_collator = DataCollatorWithPadding(\n",
    "    tokenizer=tokenizer,\n",
    "    padding=\"longest\",  # use dynamic padding\n",
    "    return_tensors=\"pt\"\n",
    ")\n",
    "\n",
    "# Create DataLoaders with parallelization and dynamic padding\n",
    "train_dataloader = DataLoader(\n",
    "    train_ds,\n",
    "    batch_size=batch_size,\n",
    "    shuffle=True,\n",
    "    num_workers=num_workers,\n",
    "    pin_memory=True if device.type != \"mps\" else False,\n",
    "    prefetch_factor=2,\n",
    "    persistent_workers=True,\n",
    "    collate_fn=data_collator\n",
    ")\n",
    "val_dataloader = DataLoader(\n",
    "    val_ds,\n",
    "    batch_size=batch_size,\n",
    "    num_workers=num_workers,\n",
    "    pin_memory=True if device.type != \"mps\" else False,\n",
    "    prefetch_factor=2,\n",
    "    persistent_workers=True,\n",
    "    collate_fn=data_collator\n",
    ")\n",
    "test_dataloader = DataLoader(\n",
    "    test_ds,\n",
    "    batch_size=batch_size,\n",
    "    num_workers=num_workers,\n",
    "    pin_memory=True if device.type != \"mps\" else False,\n",
    "    prefetch_factor=2,\n",
    "    persistent_workers=True,\n",
    "    collate_fn=data_collator\n",
    ")\n",
    "\n",
    "print(f\"\\nDataLoader sizes:\")\n",
    "print(f\"Training batches: {len(train_dataloader)}\")\n",
    "print(f\"Validation batches: {len(val_dataloader)}\")\n",
    "print(f\"Test batches: {len(test_dataloader)}\")"
   ]
  },
  {
   "cell_type": "markdown",
   "metadata": {},
   "source": [
    "# 4. TRAINING SETUP\n"
   ]
  },
  {
   "cell_type": "code",
   "execution_count": 16,
   "metadata": {},
   "outputs": [
    {
     "name": "stdout",
     "output_type": "stream",
     "text": [
      "\n",
      "Configuring optimizer and scheduler...\n",
      "\n",
      "Optimizer and scheduler configuration:\n",
      "Initial learning rate: 1e-05\n",
      "Weight decay: 0.02\n"
     ]
    }
   ],
   "source": [
    "# Cell 8: Optimizer and Scheduler Configuration\n",
    "print(\"\\nConfiguring optimizer and scheduler...\")\n",
    "from torch.optim import AdamW\n",
    "from torch.optim.lr_scheduler import ReduceLROnPlateau\n",
    "\n",
    "# Configure optimizer\n",
    "optimizer = AdamW(\n",
    "    model.parameters(),\n",
    "    lr=learning_rate,\n",
    "    weight_decay=weight_decay\n",
    ")\n",
    "\n",
    "# Configure scheduler\n",
    "scheduler = ReduceLROnPlateau(\n",
    "    optimizer,\n",
    "    mode='min',\n",
    "    factor=0.5,\n",
    "    patience=1\n",
    ")\n",
    "\n",
    "print(\"\\nOptimizer and scheduler configuration:\")\n",
    "print(f\"Initial learning rate: {learning_rate}\")\n",
    "print(f\"Weight decay: {weight_decay}\")"
   ]
  },
  {
   "cell_type": "code",
   "execution_count": 17,
   "metadata": {},
   "outputs": [
    {
     "name": "stdout",
     "output_type": "stream",
     "text": [
      "\n",
      "Setting up TensorBoard...\n",
      "Logs will be saved in: ../runs/distilbert_20250516_094135\n",
      "Metrics will be saved in: ../runs/distilbert_20250516_094135/metrics\n"
     ]
    }
   ],
   "source": [
    "# Cell 9: TensorBoard Setup\n",
    "print(\"\\nSetting up TensorBoard...\")\n",
    "\n",
    "# Create directory for logs\n",
    "log_dir = f\"../runs/distilbert_{datetime.now().strftime('%Y%m%d_%H%M%S')}\"\n",
    "writer = SummaryWriter(log_dir)\n",
    "\n",
    "# Create metrics directory\n",
    "metrics_dir = os.path.join(log_dir, \"metrics\")\n",
    "os.makedirs(metrics_dir, exist_ok=True)\n",
    "\n",
    "# Initialize training metrics\n",
    "training_metrics = []\n",
    "\n",
    "print(f\"Logs will be saved in: {log_dir}\")\n",
    "print(f\"Metrics will be saved in: {metrics_dir}\")\n"
   ]
  },
  {
   "cell_type": "markdown",
   "metadata": {},
   "source": [
    "# 5. TRAINING FUNCTIONS"
   ]
  },
  {
   "cell_type": "code",
   "execution_count": 18,
   "metadata": {},
   "outputs": [
    {
     "name": "stdout",
     "output_type": "stream",
     "text": [
      "\n",
      "Defining training and evaluation functions...\n"
     ]
    }
   ],
   "source": [
    "# Cell 10: Training and Evaluation Functions\n",
    "print(\"\\nDefining training and evaluation functions...\")\n",
    "\n",
    "def train_epoch(model, dataloader, optimizer, scheduler, device, max_grad_norm, gradient_accumulation_steps, epoch, writer):\n",
    "    model.train()\n",
    "    total_loss = 0\n",
    "    total_predictions = 0\n",
    "    correct_predictions = 0\n",
    "    \n",
    "    progress_bar = tqdm(dataloader, desc=\"Training\")\n",
    "    optimizer.zero_grad()\n",
    "    \n",
    "    for step, batch in enumerate(progress_bar):\n",
    "        batch = {k: v.to(device) for k, v in batch.items()}\n",
    "        outputs = model(**batch)\n",
    "        loss = outputs.loss / gradient_accumulation_steps\n",
    "        loss.backward()\n",
    "        \n",
    "        if (step + 1) % gradient_accumulation_steps == 0:\n",
    "            torch.nn.utils.clip_grad_norm_(model.parameters(), max_grad_norm)\n",
    "            optimizer.step()\n",
    "            scheduler.step()  # Update scheduler after each gradient accumulation\n",
    "            optimizer.zero_grad()\n",
    "            \n",
    "            global_step = epoch * len(dataloader) + step\n",
    "            writer.add_scalar('Loss/train_step', loss.item() * gradient_accumulation_steps, global_step)\n",
    "            writer.add_scalar('Learning_rate/step', scheduler.get_last_lr()[0], global_step)\n",
    "        \n",
    "        total_loss += loss.item() * gradient_accumulation_steps\n",
    "        predictions = torch.argmax(outputs.logits, dim=-1)\n",
    "        batch_correct = (predictions == batch[\"labels\"]).sum().item()\n",
    "        total_predictions += len(predictions)\n",
    "        correct_predictions += batch_correct\n",
    "        \n",
    "        progress_bar.set_postfix({\n",
    "            \"loss\": f\"{loss.item() * gradient_accumulation_steps:.4f}\",\n",
    "            \"acc\": f\"{correct_predictions/total_predictions:.4f}\",\n",
    "            \"lr\": f\"{scheduler.get_last_lr()[0]:.2e}\"\n",
    "        })\n",
    "        \n",
    "        if (step + 1) % gradient_accumulation_steps == 0:\n",
    "            global_step = epoch * len(dataloader) + step\n",
    "            writer.add_scalar('Accuracy/train_step', batch_correct / len(predictions), global_step)\n",
    "    \n",
    "    epoch_loss = total_loss / len(dataloader)\n",
    "    epoch_acc = correct_predictions / total_predictions\n",
    "    \n",
    "    writer.add_scalar('Loss/train_epoch', epoch_loss, epoch)\n",
    "    writer.add_scalar('Accuracy/train_epoch', epoch_acc, epoch)\n",
    "    writer.add_scalar('Learning_rate/epoch', scheduler.get_last_lr()[0], epoch)\n",
    "    \n",
    "    return epoch_loss, epoch_acc\n",
    "\n",
    "def evaluate(model, dataloader, device, epoch, writer):\n",
    "    model.eval()\n",
    "    total_loss = 0\n",
    "    total_predictions = 0\n",
    "    correct_predictions = 0\n",
    "    \n",
    "    with torch.no_grad():\n",
    "        progress_bar = tqdm(dataloader, desc=\"Evaluation\")\n",
    "        for step, batch in enumerate(progress_bar):\n",
    "            batch = {k: v.to(device) for k, v in batch.items()}\n",
    "            outputs = model(**batch)\n",
    "            loss = outputs.loss\n",
    "            \n",
    "            # Calculate average loss per batch\n",
    "            batch_loss = loss.item()\n",
    "            total_loss += batch_loss\n",
    "            \n",
    "            predictions = torch.argmax(outputs.logits, dim=-1)\n",
    "            batch_correct = (predictions == batch[\"labels\"]).sum().item()\n",
    "            total_predictions += len(predictions)\n",
    "            correct_predictions += batch_correct\n",
    "            \n",
    "            progress_bar.set_postfix({\n",
    "                \"loss\": f\"{batch_loss:.4f}\",\n",
    "                \"acc\": f\"{correct_predictions/total_predictions:.4f}\"\n",
    "            })\n",
    "            \n",
    "            global_step = epoch * len(dataloader) + step\n",
    "            writer.add_scalar('Loss/val_step', batch_loss, global_step)\n",
    "            writer.add_scalar('Accuracy/val_step', batch_correct / len(predictions), global_step)\n",
    "    \n",
    "    # Calculate average loss per epoch\n",
    "    avg_loss = total_loss / len(dataloader)\n",
    "    accuracy = correct_predictions / total_predictions\n",
    "    \n",
    "    writer.add_scalar('Loss/val_epoch', avg_loss, epoch)\n",
    "    writer.add_scalar('Accuracy/val_epoch', accuracy, epoch)\n",
    "    \n",
    "    return avg_loss, accuracy"
   ]
  },
  {
   "cell_type": "code",
   "execution_count": 20,
   "metadata": {},
   "outputs": [],
   "source": [
    "# Cell 11: Early Stopping and Model Monitoring\n",
    "class EarlyStopping:\n",
    "    def __init__(self, patience=2, min_delta=0.001, max_checkpoints=3, num_epochs=2):\n",
    "        self.patience = patience\n",
    "        self.min_delta = min_delta\n",
    "        self.counter = 0\n",
    "        self.best_loss = None\n",
    "        self.early_stop = False\n",
    "        self.val_loss_min = float('inf')\n",
    "        self.max_checkpoints = max_checkpoints\n",
    "        self.checkpoint_history = []  # list of checkpoints\n",
    "        \n",
    "        # Adjust save frequency based on number of epochs\n",
    "        if num_epochs <= 2:\n",
    "            self.save_frequency = 1  # save every epoch\n",
    "        elif num_epochs <= 5:\n",
    "            self.save_frequency = 2  # save every 2 epochs\n",
    "        else:\n",
    "            self.save_frequency = 5  # save every 5 epochs\n",
    "    \n",
    "    def __call__(self, val_loss, model, optimizer, scheduler, epoch, checkpoint_dir, metrics):\n",
    "        if self.best_loss is None:\n",
    "            self.best_loss = val_loss\n",
    "            self._save_checkpoint(model, optimizer, scheduler, epoch, checkpoint_dir, metrics, is_best=True)\n",
    "        elif val_loss > self.best_loss - self.min_delta:\n",
    "            self.counter += 1\n",
    "            if self.counter >= self.patience:\n",
    "                self.early_stop = True\n",
    "        else:\n",
    "            self.best_loss = val_loss\n",
    "            self.counter = 0\n",
    "            self._save_checkpoint(model, optimizer, scheduler, epoch, checkpoint_dir, metrics, is_best=True)\n",
    "        \n",
    "        # Save current checkpoint according to the calculated frequency\n",
    "        if epoch % self.save_frequency == 0:\n",
    "            self._save_checkpoint(model, optimizer, scheduler, epoch, checkpoint_dir, metrics, is_best=False)\n",
    "        \n",
    "        return self.early_stop\n",
    "    \n",
    "    def _save_checkpoint(self, model, optimizer, scheduler, epoch, checkpoint_dir, metrics, is_best=False):\n",
    "        checkpoint = {\n",
    "            'epoch': epoch,\n",
    "            'model_state_dict': model.state_dict(),\n",
    "            'optimizer_state_dict': optimizer.state_dict(),\n",
    "            'scheduler_state_dict': scheduler.state_dict(),\n",
    "            'val_loss': self.best_loss,\n",
    "            'is_best': is_best,\n",
    "            'metrics': metrics\n",
    "        }\n",
    "        \n",
    "        # Generate filename\n",
    "        if is_best:\n",
    "            checkpoint_path = os.path.join(checkpoint_dir, 'best_model.pt')\n",
    "        else:\n",
    "            checkpoint_path = os.path.join(checkpoint_dir, f'checkpoint-epoch-{epoch}.pt')\n",
    "        \n",
    "        # Save checkpoint\n",
    "        torch.save(checkpoint, checkpoint_path)\n",
    "        print(f\"Checkpoint saved: {checkpoint_path}\")\n",
    "        \n",
    "        # Add to history\n",
    "        self.checkpoint_history.append({\n",
    "            'path': checkpoint_path,\n",
    "            'epoch': epoch,\n",
    "            'val_loss': self.best_loss,\n",
    "            'is_best': is_best\n",
    "        })\n",
    "        \n",
    "        # Keep only the most recent checkpoints\n",
    "        if not is_best:  # Never delete the best model\n",
    "            self._cleanup_old_checkpoints()\n",
    "    \n",
    "    def _cleanup_old_checkpoints(self):\n",
    "        # Sort checkpoints by epoch\n",
    "        self.checkpoint_history.sort(key=lambda x: x['epoch'])\n",
    "        \n",
    "        # Keep only the most recent checkpoints\n",
    "        while len(self.checkpoint_history) > self.max_checkpoints:\n",
    "            oldest_checkpoint = self.checkpoint_history.pop(0)\n",
    "            if not oldest_checkpoint['is_best']:  # Don't delete the best model\n",
    "                try:\n",
    "                    os.remove(oldest_checkpoint['path'])\n",
    "                    print(f\"Checkpoint deleted: {oldest_checkpoint['path']}\")\n",
    "                except OSError as e:\n",
    "                    print(f\"Error deleting checkpoint: {e}\")\n",
    "\n",
    "def check_model_behavior(train_loss, val_loss, train_acc, val_acc, epoch):\n",
    "    if val_loss > train_loss * 1.2:\n",
    "        print(f\"\\n!!! Possible overfitting at epoch {epoch + 1}:\")\n",
    "        print(f\"Train loss: {train_loss:.4f}, Val loss: {val_loss:.4f}\")\n",
    "        print(f\"Train acc: {train_acc:.4f}, Val acc: {val_acc:.4f}\")\n",
    "        return \"overfitting\"\n",
    "    \n",
    "    if train_loss > 0.5 and val_loss > 0.5:\n",
    "        print(f\"\\n!!! Possible underfitting at epoch {epoch + 1}:\")\n",
    "        print(f\"Train loss: {train_loss:.4f}, Val loss: {val_loss:.4f}\")\n",
    "        print(f\"Train acc: {train_acc:.4f}, Val acc: {val_acc:.4f}\")\n",
    "        return \"underfitting\"\n",
    "    \n",
    "    return \"normal\""
   ]
  },
  {
   "cell_type": "markdown",
   "metadata": {},
   "source": [
    "# 6. MODEL TRAINING"
   ]
  },
  {
   "cell_type": "code",
   "execution_count": 11,
   "metadata": {},
   "outputs": [
    {
     "name": "stdout",
     "output_type": "stream",
     "text": [
      "Configurare training:\n",
      "Număr epoci: 2\n",
      "Checkpoint-uri vor fi salvate în: ../models/distilbert/checkpoints\n",
      "Log-uri vor fi salvate în: ../runs/distilbert_20250513_195032\n",
      "\n",
      "Epoca 1/2\n"
     ]
    },
    {
     "data": {
      "application/vnd.jupyter.widget-view+json": {
       "model_id": "5eb296d2d58c44a3a0bd068479483238",
       "version_major": 2,
       "version_minor": 0
      },
      "text/plain": [
       "Training:   0%|          | 0/1094 [00:00<?, ?it/s]"
      ]
     },
     "metadata": {},
     "output_type": "display_data"
    },
    {
     "data": {
      "application/vnd.jupyter.widget-view+json": {
       "model_id": "2347e0add9a042d89273e63b155054db",
       "version_major": 2,
       "version_minor": 0
      },
      "text/plain": [
       "Evaluation:   0%|          | 0/235 [00:18<?, ?it/s]"
      ]
     },
     "metadata": {},
     "output_type": "display_data"
    },
    {
     "name": "stdout",
     "output_type": "stream",
     "text": [
      "\n",
      "Epoca 2/2\n"
     ]
    },
    {
     "data": {
      "application/vnd.jupyter.widget-view+json": {
       "model_id": "7533152fd30d40f9bc9ec44dcefcd5a1",
       "version_major": 2,
       "version_minor": 0
      },
      "text/plain": [
       "Training:   0%|          | 0/1094 [00:00<?, ?it/s]"
      ]
     },
     "metadata": {},
     "output_type": "display_data"
    },
    {
     "data": {
      "application/vnd.jupyter.widget-view+json": {
       "model_id": "4ffa133be182469fab92df5e8efb4fcf",
       "version_major": 2,
       "version_minor": 0
      },
      "text/plain": [
       "Evaluation:   0%|          | 0/235 [00:00<?, ?it/s]"
      ]
     },
     "metadata": {},
     "output_type": "display_data"
    },
    {
     "name": "stdout",
     "output_type": "stream",
     "text": [
      "\n",
      "⚠️ Posibil overfitting la epoca 2:\n",
      "Train loss: 0.1745, Val loss: 0.2832\n",
      "Train acc: 0.9372, Val acc: 0.8976\n",
      "Checkpoint salvat: ../models/distilbert/checkpoints/checkpoint-epoch-1.pt\n",
      "\n",
      "Training finalizat!\n",
      "Cel mai bun val_loss: inf\n"
     ]
    }
   ],
   "source": [
    "# Cell 12: Main Training Loop\n",
    "# Create checkpoint directory\n",
    "checkpoint_dir = \"../models/distilbert/checkpoints\"\n",
    "os.makedirs(checkpoint_dir, exist_ok=True)\n",
    "\n",
    "# Initialize monitoring variables\n",
    "best_val_loss = float('inf')\n",
    "overfitting_counter = 0\n",
    "underfitting_counter = 0\n",
    "\n",
    "print(\"Training configuration:\")\n",
    "print(f\"Number of epochs: {num_epochs}\")\n",
    "print(f\"Checkpoints will be saved in: {checkpoint_dir}\")\n",
    "print(f\"Logs will be saved in: {log_dir}\")\n",
    "\n",
    "# Calculate total steps for scheduler\n",
    "total_steps = len(train_dataloader) // gradient_accumulation_steps * num_epochs\n",
    "warmup_steps = int(total_steps * warmup_ratio)\n",
    "\n",
    "# Initialize scheduler\n",
    "scheduler = get_linear_schedule_with_warmup(\n",
    "    optimizer,\n",
    "    num_warmup_steps=warmup_steps,\n",
    "    num_training_steps=total_steps\n",
    ")\n",
    "\n",
    "# Initialize early stopping with adaptive checkpoint management\n",
    "early_stopping = EarlyStopping(\n",
    "    patience=2,\n",
    "    max_checkpoints=3,\n",
    "    num_epochs=num_epochs  # pass the number of epochs to calculate the save frequency\n",
    ")\n",
    "\n",
    "# Main training loop\n",
    "for epoch in range(num_epochs):\n",
    "    print(f\"\\nEpoch {epoch + 1}/{num_epochs}\")\n",
    "    \n",
    "    # Training\n",
    "    train_loss, train_acc = train_epoch(\n",
    "        model, train_dataloader, optimizer, scheduler,\n",
    "        device, max_grad_norm, gradient_accumulation_steps,\n",
    "        epoch, writer\n",
    "    )\n",
    "    \n",
    "    # Evaluation\n",
    "    val_loss, val_acc = evaluate(model, val_dataloader, device, epoch, writer)\n",
    "    \n",
    "    # Save metrics for this epoch\n",
    "    epoch_metrics = {\n",
    "        'epoch': epoch,\n",
    "        'train_loss': train_loss,\n",
    "        'val_loss': val_loss,\n",
    "        'train_acc': train_acc,\n",
    "        'val_acc': val_acc,\n",
    "        'learning_rate': scheduler.get_last_lr()[0]\n",
    "    }\n",
    "    training_metrics.append(epoch_metrics)\n",
    "    \n",
    "    # Save metrics for this epoch\n",
    "    metrics_path = os.path.join(metrics_dir, f\"metrics_epoch_{epoch}.json\")\n",
    "    with open(metrics_path, 'w') as f:\n",
    "        json.dump(epoch_metrics, f, indent=4)\n",
    "    \n",
    "    # Update best val_loss\n",
    "    if val_loss < best_val_loss:\n",
    "        best_val_loss = val_loss\n",
    "        print(f\"\\nNew best val_loss: {best_val_loss:.4f}\")\n",
    "    \n",
    "    # Check model behavior\n",
    "    behavior = check_model_behavior(train_loss, val_loss, train_acc, val_acc, epoch)\n",
    "    \n",
    "    if behavior == \"overfitting\":\n",
    "        overfitting_counter += 1\n",
    "        if overfitting_counter >= 2:\n",
    "            print(\"\\n!!! Persistent overfitting detected. Adjusting parameters...\")\n",
    "            model.config.hidden_dropout_prob = min(0.3, model.config.hidden_dropout_prob + 0.05)\n",
    "            optimizer.param_groups[0]['weight_decay'] = min(0.1, optimizer.param_groups[0]['weight_decay'] + 0.01)\n",
    "            print(f\"New dropout: {model.config.hidden_dropout_prob}\")\n",
    "            print(f\"New weight decay: {optimizer.param_groups[0]['weight_decay']}\")\n",
    "            writer.add_scalar('Hyperparameters/dropout', model.config.hidden_dropout_prob, epoch)\n",
    "            writer.add_scalar('Hyperparameters/weight_decay', optimizer.param_groups[0]['weight_decay'], epoch)\n",
    "    elif behavior == \"underfitting\":\n",
    "        underfitting_counter += 1\n",
    "        if underfitting_counter >= 2:\n",
    "            print(\"\\n!!! Persistent underfitting detected. Adjusting parameters...\")\n",
    "            optimizer.param_groups[0]['lr'] = min(5e-5, optimizer.param_groups[0]['lr'] * 1.5)\n",
    "            optimizer.param_groups[0]['weight_decay'] = max(0.001, optimizer.param_groups[0]['weight_decay'] * 0.5)\n",
    "            print(f\"New learning rate: {optimizer.param_groups[0]['lr']}\")\n",
    "            print(f\"New weight decay: {optimizer.param_groups[0]['weight_decay']}\")\n",
    "            writer.add_scalar('Hyperparameters/learning_rate', optimizer.param_groups[0]['lr'], epoch)\n",
    "            writer.add_scalar('Hyperparameters/weight_decay', optimizer.param_groups[0]['weight_decay'], epoch)\n",
    "    \n",
    "    # Early stopping check\n",
    "    if early_stopping(val_loss, model, optimizer, scheduler, epoch, checkpoint_dir, epoch_metrics):\n",
    "        print(\"\\nEarly stopping triggered!\")\n",
    "        break\n",
    "\n",
    "# Save all metrics\n",
    "all_metrics_path = os.path.join(metrics_dir, \"all_metrics.json\")\n",
    "with open(all_metrics_path, 'w') as f:\n",
    "    json.dump(training_metrics, f, indent=4)\n",
    "\n",
    "# Close TensorBoard writer\n",
    "writer.close()\n",
    "\n",
    "print(\"\\nTraining completed!\")\n",
    "print(f\"Best val_loss: {best_val_loss:.4f}\")"
   ]
  },
  {
   "cell_type": "markdown",
   "metadata": {},
   "source": [
    "# 7. MODEL EVALUATION"
   ]
  },
  {
   "cell_type": "code",
   "execution_count": 33,
   "metadata": {},
   "outputs": [
    {
     "name": "stdout",
     "output_type": "stream",
     "text": [
      "\n",
      "Loading model from checkpoint...\n",
      "Model loaded from: ../models/distilbert/checkpoints/best_model.pt\n",
      "\n",
      "Model Specifications:\n",
      "==================================================\n",
      "Accuracy: 0.8979\n",
      "Macro-F1: 0.8974\n",
      "ROC-AUC: 0.9716\n",
      "PR-AUC: 0.9701\n",
      "\n",
      "Training Configuration:\n",
      "==================================================\n",
      "Batch Size: 8\n",
      "Number of Epochs: 2\n",
      "Learning Rate: 1e-05\n",
      "Weight Decay: 0.02\n",
      "Max Sequence Length: 384\n",
      "Gradient Accumulation Steps: 4\n",
      "\n",
      "Model was trained on: 2025-05-15 16:13:17\n"
     ]
    }
   ],
   "source": [
    "# Cell 12.5: Load Checkpoint Model\n",
    "print(\"\\nLoading model from checkpoint...\")\n",
    "checkpoint_path = \"../models/distilbert/checkpoints/best_model.pt\"\n",
    "checkpoint = torch.load(checkpoint_path)\n",
    "model.load_state_dict(checkpoint['model_state_dict'])\n",
    "model = model.to(device)\n",
    "print(f\"Model loaded from: {checkpoint_path}\")\n",
    "\n",
    "# Load and display model specifications\n",
    "metrics_path = \"../models/distilbert/final/metrics.json\"\n",
    "if os.path.exists(metrics_path):\n",
    "    with open(metrics_path, 'r') as f:\n",
    "        metrics = json.load(f)\n",
    "    \n",
    "    print(\"\\nModel Specifications:\")\n",
    "    print(\"=\" * 50)\n",
    "    print(f\"Accuracy: {metrics['test']['accuracy']:.4f}\")\n",
    "    print(f\"Macro-F1: {metrics['test']['macro_f1']:.4f}\")\n",
    "    print(f\"ROC-AUC: {metrics['test']['roc_auc']:.4f}\")\n",
    "    print(f\"PR-AUC: {metrics['test']['pr_auc']:.4f}\")\n",
    "    \n",
    "    print(\"\\nTraining Configuration:\")\n",
    "    print(\"=\" * 50)\n",
    "    config = metrics['training_config']\n",
    "    print(f\"Batch Size: {config['batch_size']}\")\n",
    "    print(f\"Number of Epochs: {config['num_epochs']}\")\n",
    "    print(f\"Learning Rate: {config['learning_rate']}\")\n",
    "    print(f\"Weight Decay: {config['weight_decay']}\")\n",
    "    print(f\"Max Sequence Length: {config['max_length']}\")\n",
    "    print(f\"Gradient Accumulation Steps: {config['gradient_accumulation_steps']}\")\n",
    "    \n",
    "    print(f\"\\nModel was trained on: {metrics['timestamp']}\")\n",
    "else:\n",
    "    print(\"\\nWarning: Could not find metrics file at\", metrics_path)"
   ]
  },
  {
   "cell_type": "code",
   "execution_count": 23,
   "metadata": {},
   "outputs": [],
   "source": [
    "# Cell 13: Final Evaluation Setup\n",
    "\n",
    "from sklearn.metrics import (\n",
    "    accuracy_score, precision_recall_fscore_support,\n",
    "    confusion_matrix, roc_curve, auc,\n",
    "    precision_recall_curve, average_precision_score\n",
    ")"
   ]
  },
  {
   "cell_type": "code",
   "execution_count": 24,
   "metadata": {},
   "outputs": [],
   "source": [
    "# Cell 14: Evaluation Function\n",
    "def evaluate_final(model, dataloader, device):\n",
    "    model.eval()\n",
    "    all_predictions = []\n",
    "    all_labels = []\n",
    "    all_probs = []\n",
    "    \n",
    "    with torch.no_grad():\n",
    "        for batch in tqdm(dataloader, desc=\"Final evaluation\"):\n",
    "            batch = {k: v.to(device) for k, v in batch.items()}\n",
    "            outputs = model(**batch)\n",
    "            probs = torch.softmax(outputs.logits, dim=-1)\n",
    "            predictions = torch.argmax(outputs.logits, dim=-1)\n",
    "            \n",
    "            all_predictions.extend(predictions.cpu().numpy())\n",
    "            all_labels.extend(batch[\"labels\"].cpu().numpy())\n",
    "            all_probs.extend(probs[:, 1].cpu().numpy())\n",
    "    \n",
    "    return np.array(all_predictions), np.array(all_labels), np.array(all_probs)"
   ]
  },
  {
   "cell_type": "code",
   "execution_count": 25,
   "metadata": {},
   "outputs": [
    {
     "name": "stdout",
     "output_type": "stream",
     "text": [
      "\n",
      "Evaluating model on test set...\n"
     ]
    },
    {
     "data": {
      "application/vnd.jupyter.widget-view+json": {
       "model_id": "78364a619a3140719a2c892daaec75a8",
       "version_major": 2,
       "version_minor": 0
      },
      "text/plain": [
       "Final evaluation:   0%|          | 0/235 [00:18<?, ?it/s]"
      ]
     },
     "metadata": {},
     "output_type": "display_data"
    }
   ],
   "source": [
    "# Cell 15: Test Set Evaluation\n",
    "print(\"\\nEvaluating model on test set...\")\n",
    "predictions, labels, probs = evaluate_final(model, test_dataloader, device)"
   ]
  },
  {
   "cell_type": "code",
   "execution_count": 34,
   "metadata": {},
   "outputs": [
    {
     "name": "stdout",
     "output_type": "stream",
     "text": [
      "\n",
      "Calculating performance metrics...\n",
      "Accuracy: 0.8979\n",
      "\n",
      "Per class:\n",
      "Class 0 (Negative):\n",
      "  Precision: 0.8522\n",
      "  Recall: 0.9627\n",
      "  F1-score: 0.9041\n",
      "\n",
      "Class 1 (Positive):\n",
      "  Precision: 0.9571\n",
      "  Recall: 0.8331\n",
      "  F1-score: 0.8908\n",
      "\n",
      "Macro-F1: 0.8974\n",
      "Weighted-F1: 0.8974\n"
     ]
    }
   ],
   "source": [
    "# Cell 16: Performance Metrics\n",
    "print(\"\\nCalculating performance metrics...\")\n",
    "\n",
    "accuracy = accuracy_score(labels, predictions)\n",
    "precision, recall, f1, _ = precision_recall_fscore_support(\n",
    "    labels, predictions, average=None\n",
    ")\n",
    "macro_f1 = precision_recall_fscore_support(\n",
    "    labels, predictions, average='macro'\n",
    ")[2]\n",
    "weighted_f1 = precision_recall_fscore_support(\n",
    "    labels, predictions, average='weighted'\n",
    ")[2]\n",
    "\n",
    "print(f\"Accuracy: {accuracy:.4f}\")\n",
    "print(\"\\nPer class:\")\n",
    "print(f\"Class 0 (Negative):\")\n",
    "print(f\"  Precision: {precision[0]:.4f}\")\n",
    "print(f\"  Recall: {recall[0]:.4f}\")\n",
    "print(f\"  F1-score: {f1[0]:.4f}\")\n",
    "print(f\"\\nClass 1 (Positive):\")\n",
    "print(f\"  Precision: {precision[1]:.4f}\")\n",
    "print(f\"  Recall: {recall[1]:.4f}\")\n",
    "print(f\"  F1-score: {f1[1]:.4f}\")\n",
    "print(f\"\\nMacro-F1: {macro_f1:.4f}\")\n",
    "print(f\"Weighted-F1: {weighted_f1:.4f}\")"
   ]
  },
  {
   "cell_type": "code",
   "execution_count": 38,
   "metadata": {},
   "outputs": [
    {
     "name": "stdout",
     "output_type": "stream",
     "text": [
      "\n",
      "Generating visualizations...\n",
      "\n",
      "ROC Curve Data:\n",
      "AUC Score: 0.9716\n",
      "\n",
      "Sample points (FPR, TPR):\n",
      "(0.0000, 0.0000)\n",
      "(0.0251, 0.7808)\n",
      "(0.0587, 0.8859)\n",
      "(0.1120, 0.9371)\n",
      "(0.2213, 0.9733)\n",
      "(1.0000, 1.0000)\n",
      "\n",
      "Precision-Recall Curve Data:\n",
      "Average Precision Score: 0.9701\n",
      "\n",
      "Sample points (Recall, Precision):\n",
      "(1.0000, 0.5000)\n",
      "(0.9979, 0.6237)\n",
      "(0.9755, 0.8129)\n",
      "(0.7765, 0.9707)\n",
      "(0.3963, 0.9907)\n"
     ]
    },
    {
     "data": {
      "image/png": "[encoded data removed]",
      "text/plain": [
       "<Figure size 1200x500 with 2 Axes>"
      ]
     },
     "metadata": {},
     "output_type": "display_data"
    },
    {
     "name": "stdout",
     "output_type": "stream",
     "text": [
      "\n",
      "Confusion Matrix Data:\n",
      "True Negatives (TN): 1805\n",
      "False Positives (FP): 70\n",
      "False Negatives (FN): 313\n",
      "True Positives (TP): 1562\n"
     ]
    },
    {
     "data": {
      "image/png": "[encoded data removed]",
      "text/plain": [
       "<Figure size 800x600 with 2 Axes>"
      ]
     },
     "metadata": {},
     "output_type": "display_data"
    }
   ],
   "source": [
    "# Cell 17: Visualization\n",
    "print(\"\\nGenerating visualizations...\")\n",
    "\n",
    "# ROC Curve\n",
    "fpr, tpr, _ = roc_curve(labels, probs)\n",
    "roc_auc = auc(fpr, tpr)\n",
    "\n",
    "# Print ROC curve data\n",
    "print(\"\\nROC Curve Data:\")\n",
    "print(f\"AUC Score: {roc_auc:.4f}\")\n",
    "print(\"\\nSample points (FPR, TPR):\")\n",
    "for i in range(0, len(fpr), len(fpr)//5):  # Print 5 sample points\n",
    "    print(f\"({fpr[i]:.4f}, {tpr[i]:.4f})\")\n",
    "\n",
    "plt.figure(figsize=(12, 5))\n",
    "\n",
    "# ROC Curve\n",
    "plt.subplot(1, 2, 1)\n",
    "plt.plot(fpr, tpr, color='darkorange', lw=2, label=f'ROC curve (AUC = {roc_auc:.2f})')\n",
    "plt.plot([0, 1], [0, 1], color='navy', lw=2, linestyle='--')\n",
    "plt.xlim([0.0, 1.0])\n",
    "plt.ylim([0.0, 1.05])\n",
    "plt.xlabel('False Positive Rate')\n",
    "plt.ylabel('True Positive Rate')\n",
    "plt.title('Receiver Operating Characteristic (ROC)')\n",
    "plt.legend(loc=\"lower right\")\n",
    "\n",
    "# Precision-Recall Curve\n",
    "precision, recall, _ = precision_recall_curve(labels, probs)\n",
    "pr_auc = average_precision_score(labels, probs)\n",
    "\n",
    "# Print Precision-Recall curve data\n",
    "print(\"\\nPrecision-Recall Curve Data:\")\n",
    "print(f\"Average Precision Score: {pr_auc:.4f}\")\n",
    "print(\"\\nSample points (Recall, Precision):\")\n",
    "for i in range(0, len(recall), len(recall)//5):  # Print 5 sample points\n",
    "    print(f\"({recall[i]:.4f}, {precision[i]:.4f})\")\n",
    "\n",
    "plt.subplot(1, 2, 2)\n",
    "plt.plot(recall, precision, color='blue', lw=2, label=f'PR curve (AP = {pr_auc:.2f})')\n",
    "plt.xlabel('Recall')\n",
    "plt.ylabel('Precision')\n",
    "plt.title('Precision-Recall Curve')\n",
    "plt.legend(loc=\"lower left\")\n",
    "\n",
    "plt.tight_layout()\n",
    "plt.show()\n",
    "\n",
    "# Confusion Matrix\n",
    "cm = confusion_matrix(labels, predictions)\n",
    "print(\"\\nConfusion Matrix Data:\")\n",
    "print(\"True Negatives (TN):\", cm[0][0])\n",
    "print(\"False Positives (FP):\", cm[0][1])\n",
    "print(\"False Negatives (FN):\", cm[1][0])\n",
    "print(\"True Positives (TP):\", cm[1][1])\n",
    "\n",
    "plt.figure(figsize=(8, 6))\n",
    "sns.heatmap(cm, annot=True, fmt='d', cmap='Blues',\n",
    "            xticklabels=['Negative', 'Positive'],\n",
    "            yticklabels=['Negative', 'Positive'])\n",
    "plt.xlabel('Predicted')\n",
    "plt.ylabel('True')\n",
    "plt.title('Confusion Matrix')\n",
    "plt.show()"
   ]
  },
  {
   "cell_type": "markdown",
   "metadata": {},
   "source": [
    "# 8. MODEL SAVING"
   ]
  },
  {
   "cell_type": "code",
   "execution_count": 37,
   "metadata": {},
   "outputs": [
    {
     "name": "stdout",
     "output_type": "stream",
     "text": [
      "\n",
      "Model and metrics saved successfully!\n",
      "Model saved in: ../models/distilbert/final/model.pt\n",
      "Tokenizer saved in: ../models/distilbert/final/tokenizer\n",
      "Metrics saved in: ../models/distilbert/final/metrics.json\n"
     ]
    }
   ],
   "source": [
    "# Cell 18: Save Final Model\n",
    "# Create model directory\n",
    "model_dir = \"../models/distilbert/final\"\n",
    "os.makedirs(model_dir, exist_ok=True)\n",
    "\n",
    "# Save model\n",
    "model_path = os.path.join(model_dir, \"model.pt\")\n",
    "torch.save(model.state_dict(), model_path)\n",
    "\n",
    "# Save tokenizer\n",
    "tokenizer_path = os.path.join(model_dir, \"tokenizer\")\n",
    "tokenizer.save_pretrained(tokenizer_path)\n",
    "\n",
    "# Save metrics\n",
    "metrics = {\n",
    "    'test': {\n",
    "        'accuracy': float(accuracy),\n",
    "        'precision': precision.tolist(),\n",
    "        'recall': recall.tolist(),\n",
    "        'f1_score': f1.tolist(),\n",
    "        'macro_f1': float(macro_f1),\n",
    "        'weighted_f1': float(weighted_f1),\n",
    "        'roc_auc': float(roc_auc),\n",
    "        'pr_auc': float(pr_auc)\n",
    "    },\n",
    "    'training_config': {\n",
    "        'batch_size': batch_size,\n",
    "        'num_epochs': num_epochs,\n",
    "        'learning_rate': learning_rate,\n",
    "        'weight_decay': weight_decay,\n",
    "        'max_length': max_length,\n",
    "        'gradient_accumulation_steps': gradient_accumulation_steps\n",
    "    },\n",
    "    'timestamp': datetime.now().strftime('%Y-%m-%d %H:%M:%S')\n",
    "}\n",
    "\n",
    "metrics_path = os.path.join(model_dir, \"metrics.json\")\n",
    "with open(metrics_path, 'w') as f:\n",
    "    json.dump(metrics, f, indent=4)\n",
    "\n",
    "print(\"\\nModel and metrics saved successfully!\")\n",
    "print(f\"Model saved in: {model_path}\")\n",
    "print(f\"Tokenizer saved in: {tokenizer_path}\")\n",
    "print(f\"Metrics saved in: {metrics_path}\")"
   ]
  },
  {
   "cell_type": "markdown",
   "metadata": {},
   "source": [
    "# 9. CONCLUSIONS"
   ]
  },
  {
   "cell_type": "markdown",
   "metadata": {},
   "source": [
    "# Cell 19: Final Conclusions\n",
    "## Performance Summary\n",
    "- Accuracy: 0.8979 (89.79%)\n",
    "- Macro-F1: 0.8974 (89.74%)\n",
    "- ROC-AUC: 0.9716 (97.16%)\n",
    "- PR-AUC: 0.9701 (97.01%)\n",
    "\n",
    "## Detailed Metrics\n",
    "### Confusion Matrix Analysis\n",
    "- True Negatives: 1805 (Correctly classified negative reviews)\n",
    "- False Positives: 70 (Negative reviews incorrectly classified as positive)\n",
    "- False Negatives: 313 (Positive reviews incorrectly classified as negative)\n",
    "- True Positives: 1562 (Correctly classified positive reviews)\n",
    "\n",
    "### ROC Curve Analysis\n",
    "- AUC Score: 0.9716 (97.16%)\n",
    "- Model shows excellent performance across all decision points\n",
    "- High TPR (0.9371) even at low FPR (0.1120)\n",
    "\n",
    "### Precision-Recall Analysis\n",
    "- Average Precision: 0.9701 (97.01%)\n",
    "- Very good precision (0.9907) at moderate recall (0.3963)\n",
    "- Good precision (0.9707) at high recall (0.7765)\n",
    "\n",
    "## Model Characteristics\n",
    "- Architecture: DistilBERT\n",
    "- Sequence Length: 384 tokens\n",
    "- Batch Size: 8\n",
    "- Learning Rate: 1e-05\n",
    "- Weight Decay: 0.02\n",
    "- Gradient Accumulation Steps: 4\n",
    "- Training Duration: 2 epochs\n",
    "\n",
    "## Conclusions\n",
    "The model shows good performance in classifying IMDb reviews, with very good accuracy and AUC metrics.\n",
    "The low false positive rate (70/3748 = 1.87%) and moderate false negative rate (313/3748 = 8.35%).\n"
   ]
  },
  {
   "cell_type": "markdown",
   "metadata": {},
   "source": [
    "# 10. UNSUPERVISED DATA PSEUDO-LABELING"
   ]
  },
  {
   "cell_type": "code",
   "execution_count": 41,
   "metadata": {},
   "outputs": [
    {
     "name": "stdout",
     "output_type": "stream",
     "text": [
      "\n",
      "Loading final model for unsupervised analysis...\n",
      "Final model loaded from: ../models/distilbert/final/model.pt\n",
      "\n",
      "Final Model Specifications:\n",
      "==================================================\n",
      "Accuracy: 0.8979\n",
      "Macro-F1: 0.8974\n",
      "ROC-AUC: 0.9716\n",
      "PR-AUC: 0.9701\n",
      "\n",
      "Loading unsupervised dataset...\n",
      "\n",
      "Preprocessing unsupervised data...\n"
     ]
    },
    {
     "data": {
      "application/vnd.jupyter.widget-view+json": {
       "model_id": "a4008b6cbb5149199ae37f06ca9beb7e",
       "version_major": 2,
       "version_minor": 0
      },
      "text/plain": [
       "Map (num_proc=8):   0%|          | 0/50000 [00:00<?, ? examples/s]"
      ]
     },
     "metadata": {},
     "output_type": "display_data"
    }
   ],
   "source": [
    "# Cell 24: Load and Prepare Unsupervised Data\n",
    "# Load the final model for unsupervised analysis\n",
    "print(\"\\nLoading final model for unsupervised analysis...\")\n",
    "final_model_path = \"../models/distilbert/final/model.pt\"\n",
    "model.load_state_dict(torch.load(final_model_path))\n",
    "model = model.to(device)\n",
    "print(f\"Final model loaded from: {final_model_path}\")\n",
    "\n",
    "# Load and display final model specifications\n",
    "metrics_path = \"../models/distilbert/final/metrics.json\"\n",
    "if os.path.exists(metrics_path):\n",
    "    with open(metrics_path, 'r') as f:\n",
    "        metrics = json.load(f)\n",
    "    \n",
    "    print(\"\\nFinal Model Specifications:\")\n",
    "    print(\"=\" * 50)\n",
    "    print(f\"Accuracy: {metrics['test']['accuracy']:.4f}\")\n",
    "    print(f\"Macro-F1: {metrics['test']['macro_f1']:.4f}\")\n",
    "    print(f\"ROC-AUC: {metrics['test']['roc_auc']:.4f}\")\n",
    "    print(f\"PR-AUC: {metrics['test']['pr_auc']:.4f}\")\n",
    "\n",
    "print(\"\\nLoading unsupervised dataset...\")\n",
    "unsupervised_ds = raw_ds[\"unsupervised\"]\n",
    "\n",
    "# Verify dataset size and structure\n",
    "print(f\"\\nUnsupervised dataset size: {len(unsupervised_ds)} examples\")\n",
    "print(\"\\nDataset structure:\")\n",
    "print(unsupervised_ds.features)\n",
    "print(\"\\nSample example:\")\n",
    "print(unsupervised_ds[0])\n",
    "\n",
    "# Preprocess unsupervised data\n",
    "print(\"\\nPreprocessing unsupervised data...\")\n",
    "unsupervised_ds = unsupervised_ds.map(\n",
    "    preprocess_fn,\n",
    "    batched=True,\n",
    "    remove_columns=[\"text\"],\n",
    "    num_proc=num_workers\n",
    ")\n",
    "\n",
    "# Verify preprocessed dataset\n",
    "print(f\"\\nPreprocessed dataset size: {len(unsupervised_ds)} examples\")\n",
    "print(\"Preprocessed features:\")\n",
    "print(unsupervised_ds.features)\n",
    "\n",
    "# Set format for PyTorch\n",
    "unsupervised_ds.set_format(type=\"torch\", columns=[\"input_ids\", \"attention_mask\"])\n",
    "\n",
    "# Create DataLoader for unsupervised data\n",
    "unsupervised_dataloader = DataLoader(\n",
    "    unsupervised_ds,\n",
    "    batch_size=batch_size,\n",
    "    num_workers=num_workers,\n",
    "    pin_memory=True if device.type != \"mps\" else False,\n",
    "    prefetch_factor=2,\n",
    "    persistent_workers=True,\n",
    "    collate_fn=data_collator\n",
    ")\n",
    "\n",
    "print(f\"\\nDataLoader batches: {len(unsupervised_dataloader)}\")\n",
    "print(f\"Batch size: {batch_size}\")\n",
    "print(f\"Total examples in DataLoader: {len(unsupervised_dataloader) * batch_size}\")"
   ]
  },
  {
   "cell_type": "code",
   "execution_count": 43,
   "metadata": {},
   "outputs": [
    {
     "name": "stdout",
     "output_type": "stream",
     "text": [
      "\n",
      "Generating pseudo-labels...\n",
      "\n",
      "Generating pseudo-labels with optimized MPS configuration...\n"
     ]
    },
    {
     "data": {
      "application/vnd.jupyter.widget-view+json": {
       "model_id": "d39195889153443abdd5aa93b83f098a",
       "version_major": 2,
       "version_minor": 0
      },
      "text/plain": [
       "Generating pseudo-labels:   0%|          | 0/6250 [00:18<?, ?it/s]"
      ]
     },
     "metadata": {},
     "output_type": "display_data"
    },
    {
     "name": "stdout",
     "output_type": "stream",
     "text": [
      "\n",
      "Generated 43936 pseudo-labels with confidence > 0.85\n",
      "Positive examples: 18731\n",
      "Negative examples: 25205\n",
      "Average confidence: 0.9753\n"
     ]
    }
   ],
   "source": [
    "# Cell 25: Generate Pseudo-Labels\n",
    "print(\"\\nGenerating pseudo-labels...\")\n",
    "\n",
    "def generate_pseudo_labels(model, dataloader, device, confidence_threshold=0.85):\n",
    "    \"\"\"\n",
    "    Generate pseudo-labels for unsupervised data using the trained model.\n",
    "    Optimized for MPS (Apple Silicon) GPU with memory management.\n",
    "    Using coacy was 85%\n",
    "    and the model achieved ~90% accuracy on the tnfidence threshold of 0.85 (85%) since our target accurest set.\n",
    "    \"\"\"\n",
    "    model.eval()\n",
    "    pseudo_labels = []\n",
    "    confidence_scores = []\n",
    "    texts = []\n",
    "    \n",
    "    with torch.no_grad():\n",
    "        for batch in tqdm(dataloader, desc=\"Generating pseudo-labels\"):\n",
    "            try:\n",
    "                # Clear MPS cache before processing batch\n",
    "                if device.type == \"mps\":\n",
    "                    torch.mps.empty_cache()\n",
    "                \n",
    "                # Move batch to device\n",
    "                batch = {k: v.to(device) for k, v in batch.items()}\n",
    "                \n",
    "                # Forward pass\n",
    "                outputs = model(**batch)\n",
    "                probs = torch.softmax(outputs.logits, dim=-1)\n",
    "                predictions = torch.argmax(outputs.logits, dim=-1)\n",
    "                confidence = torch.max(probs, dim=-1)[0]\n",
    "                \n",
    "                # Store high confidence predictions\n",
    "                high_conf_mask = confidence > confidence_threshold\n",
    "                if high_conf_mask.any():\n",
    "                    # Move results to CPU immediately to free GPU memory\n",
    "                    pseudo_labels.extend(predictions[high_conf_mask].cpu().numpy())\n",
    "                    confidence_scores.extend(confidence[high_conf_mask].cpu().numpy())\n",
    "                    texts.extend([tokenizer.decode(ids, skip_special_tokens=True) \n",
    "                                for ids in batch['input_ids'][high_conf_mask]])\n",
    "                \n",
    "                # Clear memory\n",
    "                del outputs, probs, predictions, confidence\n",
    "                if device.type == \"mps\":\n",
    "                    torch.mps.empty_cache()\n",
    "                    \n",
    "            except RuntimeError as e:\n",
    "                if \"out of memory\" in str(e):\n",
    "                    if device.type == \"mps\":\n",
    "                        torch.mps.empty_cache()\n",
    "                    print(f\"\\nWARNING: out of memory in batch. Skipping batch...\")\n",
    "                    continue\n",
    "                else:\n",
    "                    raise e\n",
    "    \n",
    "    return np.array(pseudo_labels), np.array(confidence_scores), texts\n",
    "\n",
    "# Reduce batch size for pseudo-labeling to prevent memory issues\n",
    "pseudo_labeling_batch_size = 8  # Smaller batch size for memory efficiency\n",
    "unsupervised_dataloader = DataLoader(\n",
    "    unsupervised_ds,\n",
    "    batch_size=pseudo_labeling_batch_size,\n",
    "    num_workers=num_workers,\n",
    "    pin_memory=True if device.type != \"mps\" else False,\n",
    "    prefetch_factor=2,\n",
    "    persistent_workers=True,\n",
    "    collate_fn=data_collator\n",
    ")\n",
    "\n",
    "print(\"\\nGenerating pseudo-labels with optimized MPS configuration...\")\n",
    "pseudo_labels, confidence_scores, texts = generate_pseudo_labels(\n",
    "    model, unsupervised_dataloader, device\n",
    ")\n",
    "\n",
    "print(f\"\\nGenerated {len(pseudo_labels)} pseudo-labels with confidence > 0.85\")\n",
    "print(f\"Positive examples: {np.sum(pseudo_labels == 1)}\")\n",
    "print(f\"Negative examples: {np.sum(pseudo_labels == 0)}\")\n",
    "print(f\"Average confidence: {np.mean(confidence_scores):.4f}\")"
   ]
  },
  {
   "cell_type": "code",
   "execution_count": 75,
   "metadata": {},
   "outputs": [
    {
     "name": "stdout",
     "output_type": "stream",
     "text": [
      "\n",
      "Analyzing results for unlabeled data...\n",
      "\n",
      "General statistics:\n",
      "Total analyzed examples: 43936\n",
      "Positive examples: 18731\n",
      "Negative examples: 25205\n",
      "Average confidence score: 0.9753\n",
      "\n",
      "Confidence score statistics:\n",
      "count    43936.000000\n",
      "mean         0.975333\n",
      "std          0.028780\n",
      "min          0.850025\n",
      "25%          0.973697\n",
      "50%          0.987974\n",
      "75%          0.991891\n",
      "max          0.995385\n",
      "Name: confidence, dtype: float64\n"
     ]
    },
    {
     "data": {
      "image/png": "[encoded data removed]",
      "text/plain": [
       "<Figure size 1500x500 with 3 Axes>"
      ]
     },
     "metadata": {},
     "output_type": "display_data"
    }
   ],
   "source": [
    "# Cell 26: Analyze Unsupervised Data Results\n",
    "print(\"\\nAnalyzing results for unlabeled data...\")\n",
    "\n",
    "# Create DataFrame for analysis\n",
    "analysis_df = pd.DataFrame({\n",
    "    'text': texts,\n",
    "    'prediction': pseudo_labels, \n",
    "    'confidence': confidence_scores\n",
    "})\n",
    "\n",
    "# Calculate general statistics\n",
    "print(\"\\nGeneral statistics:\")\n",
    "print(f\"Total analyzed examples: {len(analysis_df)}\")\n",
    "print(f\"Positive examples: {np.sum(pseudo_labels == 1)}\")  \n",
    "print(f\"Negative examples: {np.sum(pseudo_labels == 0)}\") \n",
    "print(f\"Average confidence score: {np.mean(confidence_scores):.4f}\")\n",
    "\n",
    "# Analyze confidence score distribution\n",
    "print(\"\\nConfidence score statistics:\")\n",
    "print(analysis_df['confidence'].describe())\n",
    "\n",
    "# Visualize distributions\n",
    "plt.figure(figsize=(15, 5))\n",
    "\n",
    "# Prediction distribution\n",
    "plt.subplot(1, 3, 1)\n",
    "sns.countplot(data=analysis_df, x='prediction')\n",
    "plt.title('Prediction Distribution')\n",
    "plt.xlabel('Prediction (0=Negative, 1=Positive)')\n",
    "plt.ylabel('Count')\n",
    "\n",
    "# Confidence score distribution\n",
    "plt.subplot(1, 3, 2)\n",
    "sns.histplot(data=analysis_df, x='confidence', bins=20)\n",
    "plt.title('Confidence Score Distribution')\n",
    "plt.xlabel('Confidence Score')\n",
    "plt.ylabel('Count')\n",
    "\n",
    "# Confidence scores by class - using violin plot instead of box plot\n",
    "plt.subplot(1, 3, 3)\n",
    "sns.violinplot(data=analysis_df, x='prediction', y='confidence')\n",
    "plt.title('Confidence Scores by Class')\n",
    "plt.xlabel('Prediction (0=Negative, 1=Positive)')\n",
    "plt.ylabel('Confidence Score')\n",
    "\n",
    "plt.tight_layout()\n",
    "plt.show()"
   ]
  },
  {
   "cell_type": "code",
   "execution_count": 82,
   "metadata": {},
   "outputs": [
    {
     "name": "stdout",
     "output_type": "stream",
     "text": [
      "\n",
      "Creating enhanced training dataset...\n"
     ]
    },
    {
     "data": {
      "application/vnd.jupyter.widget-view+json": {
       "model_id": "6ddcf96f6bf54a299ca07833ed355061",
       "version_major": 2,
       "version_minor": 0
      },
      "text/plain": [
       "Casting the dataset:   0%|          | 0/43936 [00:00<?, ? examples/s]"
      ]
     },
     "metadata": {},
     "output_type": "display_data"
    },
    {
     "name": "stdout",
     "output_type": "stream",
     "text": [
      "Adding missing column: input_ids\n",
      "Adding missing column: attention_mask\n",
      "Adding missing column: labels\n"
     ]
    },
    {
     "data": {
      "application/vnd.jupyter.widget-view+json": {
       "model_id": "999523bd6adb4d6d91390256cfd4dcff",
       "version_major": 2,
       "version_minor": 0
      },
      "text/plain": [
       "Casting the dataset:   0%|          | 0/43936 [00:00<?, ? examples/s]"
      ]
     },
     "metadata": {},
     "output_type": "display_data"
    },
    {
     "data": {
      "application/vnd.jupyter.widget-view+json": {
       "model_id": "ca7a18859b624ab292b9feaf5a0e5321",
       "version_major": 2,
       "version_minor": 0
      },
      "text/plain": [
       "Casting the dataset:   0%|          | 0/43936 [00:00<?, ? examples/s]"
      ]
     },
     "metadata": {},
     "output_type": "display_data"
    },
    {
     "name": "stdout",
     "output_type": "stream",
     "text": [
      "\n",
      "Class distribution in pseudo-labeled set:\n",
      "Positive: 18731\n",
      "Negative: 25205\n",
      "\n",
      "Enhanced dataset size: 61436\n",
      "Original examples: 17500\n",
      "Added pseudo-labeled examples: 43936\n",
      "\n",
      "Verifying enhanced dataset structure:\n",
      "Features: {'label': ClassLabel(names=['neg', 'pos'], id=None), 'input_ids': Sequence(feature=Value(dtype='int32', id=None), length=-1, id=None), 'attention_mask': Sequence(feature=Value(dtype='int8', id=None), length=-1, id=None), 'labels': Value(dtype='int64', id=None), 'text': Value(dtype='string', id=None), 'confidence': Value(dtype='float32', id=None)}\n",
      "\n",
      "First example: {'input_ids': tensor([  101,  2023,  2143,  3138,  2017,  2503,  2993,  1999,  1996,  2220,\n",
      "         2781,  1998,  4324,  2017,  6229,  1996,  2203,  1012,  2009,  2038,\n",
      "         1037,  2200, 23369,  2466,  1998,  2200,  2204,  3479,  2189,  1012,\n",
      "         1996,  3772,  1997, 28461,  1038, 23057, 19279,  2890,  2226, 27699,\n",
      "        20909, 12190,  2080, 25933,  3406,  1998,  8659, 21275, 15253, 20760,\n",
      "         8609, 15453,  2072, 25933,  3406,  2003, 17087,  1012,  6749,  2000,\n",
      "         2111,  2040,  2131, 11471,  1997,  2895,  3152,  1998,  2215,  2000,\n",
      "         2156,  1037,  2204,  3185,  1012,   102]), 'attention_mask': tensor([1, 1, 1, 1, 1, 1, 1, 1, 1, 1, 1, 1, 1, 1, 1, 1, 1, 1, 1, 1, 1, 1, 1, 1,\n",
      "        1, 1, 1, 1, 1, 1, 1, 1, 1, 1, 1, 1, 1, 1, 1, 1, 1, 1, 1, 1, 1, 1, 1, 1,\n",
      "        1, 1, 1, 1, 1, 1, 1, 1, 1, 1, 1, 1, 1, 1, 1, 1, 1, 1, 1, 1, 1, 1, 1, 1,\n",
      "        1, 1, 1, 1]), 'labels': tensor(1)}\n"
     ]
    }
   ],
   "source": [
    "# Cell 27: Create Enhanced Training Dataset\n",
    "print(\"\\nCreating enhanced training dataset...\")\n",
    "\n",
    "# Convert pseudo-labeled data to dataset format\n",
    "pseudo_dataset = Dataset.from_pandas(pseudo_df)\n",
    "\n",
    "# Convert label column to ClassLabel type to match original dataset\n",
    "pseudo_dataset = pseudo_dataset.cast_column('label', ClassLabel(names=['neg', 'pos']))\n",
    "\n",
    "# Ensure we have all required columns with correct types\n",
    "required_columns = ['input_ids', 'attention_mask', 'labels']\n",
    "for col in required_columns:\n",
    "    if col not in pseudo_dataset.features:\n",
    "        print(f\"Adding missing column: {col}\")\n",
    "        if col == 'labels':\n",
    "            pseudo_dataset = pseudo_dataset.add_column(col, pseudo_dataset['label'])\n",
    "        else:\n",
    "            # Tokenize text to get input_ids and attention_mask\n",
    "            tokenized = tokenizer(\n",
    "                pseudo_dataset['text'],\n",
    "                truncation=True,\n",
    "                max_length=max_length,\n",
    "                padding=False,\n",
    "                return_tensors=None\n",
    "            )\n",
    "            # Convert to correct dtypes to match original dataset\n",
    "            if col == 'input_ids':\n",
    "                tokenized[col] = [np.array(x, dtype=np.int32) for x in tokenized[col]]\n",
    "            elif col == 'attention_mask':\n",
    "                tokenized[col] = [np.array(x, dtype=np.int8) for x in tokenized[col]]\n",
    "            pseudo_dataset = pseudo_dataset.add_column(col, tokenized[col])\n",
    "\n",
    "# Cast columns to correct types to match original dataset\n",
    "from datasets import Sequence, Value\n",
    "pseudo_dataset = pseudo_dataset.cast_column('input_ids', Sequence(Value(dtype='int32')))\n",
    "pseudo_dataset = pseudo_dataset.cast_column('attention_mask', Sequence(Value(dtype='int8')))\n",
    "\n",
    "# Set format for PyTorch\n",
    "pseudo_dataset.set_format(type=\"torch\", columns=required_columns)\n",
    "\n",
    "# Print class distribution in pseudo-labeled set\n",
    "print(\"\\nClass distribution in pseudo-labeled set:\")\n",
    "print(f\"Positive: {np.sum(pseudo_labels == 1)}\")\n",
    "print(f\"Negative: {np.sum(pseudo_labels == 0)}\")\n",
    "\n",
    "# Combine original data with pseudo-labeled data\n",
    "enhanced_train_ds = concatenate_datasets([train_ds, pseudo_dataset])\n",
    "\n",
    "print(f\"\\nEnhanced dataset size: {len(enhanced_train_ds)}\")\n",
    "print(f\"Original examples: {len(train_ds)}\")\n",
    "print(f\"Added pseudo-labeled examples: {len(pseudo_dataset)}\")\n",
    "\n",
    "# Verify final structure\n",
    "print(\"\\nVerifying enhanced dataset structure:\")\n",
    "print(\"Features:\", enhanced_train_ds.features)\n",
    "print(\"\\nFirst example:\", enhanced_train_ds[0])"
   ]
  },
  {
   "cell_type": "code",
   "execution_count": 83,
   "metadata": {},
   "outputs": [
    {
     "name": "stdout",
     "output_type": "stream",
     "text": [
      "\n",
      "Retraining model on enhanced dataset...\n"
     ]
    },
    {
     "name": "stderr",
     "output_type": "stream",
     "text": [
      "Some weights of DistilBertForSequenceClassification were not initialized from the model checkpoint at distilbert-base-uncased and are newly initialized: ['classifier.bias', 'classifier.weight', 'pre_classifier.bias', 'pre_classifier.weight']\n",
      "You should probably TRAIN this model on a down-stream task to be able to use it for predictions and inference.\n"
     ]
    },
    {
     "name": "stdout",
     "output_type": "stream",
     "text": [
      "\n",
      "Starting training on enhanced dataset...\n",
      "\n",
      "Epoch 1/2\n"
     ]
    },
    {
     "data": {
      "application/vnd.jupyter.widget-view+json": {
       "model_id": "8865bd225ada4191a630c1d193079105",
       "version_major": 2,
       "version_minor": 0
      },
      "text/plain": [
       "Training:   0%|          | 0/3840 [00:19<?, ?it/s]"
      ]
     },
     "metadata": {},
     "output_type": "display_data"
    },
    {
     "data": {
      "application/vnd.jupyter.widget-view+json": {
       "model_id": "b77d062b4eee4f9995e53aed88ca90bd",
       "version_major": 2,
       "version_minor": 0
      },
      "text/plain": [
       "Evaluation:   0%|          | 0/235 [00:18<?, ?it/s]"
      ]
     },
     "metadata": {},
     "output_type": "display_data"
    },
    {
     "ename": "NameError",
     "evalue": "name 'checkpoint_dir' is not defined",
     "output_type": "error",
     "traceback": [
      "\u001b[31m---------------------------------------------------------------------------\u001b[39m",
      "\u001b[31mNameError\u001b[39m                                 Traceback (most recent call last)",
      "\u001b[36mCell\u001b[39m\u001b[36m \u001b[39m\u001b[32mIn[83]\u001b[39m\u001b[32m, line 82\u001b[39m\n\u001b[32m     78\u001b[39m enhanced_training_metrics.append(epoch_metrics)\n\u001b[32m     80\u001b[39m \u001b[38;5;66;03m# Early stopping check\u001b[39;00m\n\u001b[32m     81\u001b[39m \u001b[38;5;28;01mif\u001b[39;00m enhanced_early_stopping(val_loss, enhanced_model, enhanced_optimizer, \n\u001b[32m---> \u001b[39m\u001b[32m82\u001b[39m                          enhanced_scheduler, epoch, \u001b[43mcheckpoint_dir\u001b[49m, epoch_metrics):\n\u001b[32m     83\u001b[39m     \u001b[38;5;28mprint\u001b[39m(\u001b[33m\"\u001b[39m\u001b[38;5;130;01m\\n\u001b[39;00m\u001b[33mEarly stopping triggered!\u001b[39m\u001b[33m\"\u001b[39m)\n\u001b[32m     84\u001b[39m     \u001b[38;5;28;01mbreak\u001b[39;00m\n",
      "\u001b[31mNameError\u001b[39m: name 'checkpoint_dir' is not defined"
     ]
    }
   ],
   "source": [
    "# Cell 28: Retrain Model on Enhanced Dataset\n",
    "print(\"\\nRetraining model on enhanced dataset...\")\n",
    "\n",
    "# Asigurăm-ne că setul de date are formatul corect\n",
    "enhanced_train_ds.set_format(type=\"torch\", columns=['input_ids', 'attention_mask', 'labels'])\n",
    "\n",
    "# Create DataLoader for enhanced dataset\n",
    "enhanced_train_dataloader = DataLoader(\n",
    "    enhanced_train_ds,\n",
    "    batch_size=batch_size,\n",
    "    shuffle=True,\n",
    "    num_workers=num_workers,\n",
    "    pin_memory=True if device.type != \"mps\" else False,\n",
    "    prefetch_factor=2,\n",
    "    persistent_workers=True,\n",
    "    collate_fn=data_collator\n",
    ")\n",
    "\n",
    "# Initialize new model\n",
    "enhanced_model = AutoModelForSequenceClassification.from_pretrained(\n",
    "    \"distilbert-base-uncased\",\n",
    "    num_labels=2,\n",
    "    dropout=0.2\n",
    ")\n",
    "enhanced_model = enhanced_model.to(device)\n",
    "\n",
    "# Initialize optimizer and scheduler\n",
    "enhanced_optimizer = AdamW(\n",
    "    enhanced_model.parameters(),\n",
    "    lr=learning_rate,\n",
    "    weight_decay=weight_decay\n",
    ")\n",
    "\n",
    "# Calculate total steps for scheduler\n",
    "total_steps = len(enhanced_train_dataloader) // gradient_accumulation_steps * num_epochs\n",
    "warmup_steps = int(total_steps * warmup_ratio)\n",
    "\n",
    "enhanced_scheduler = get_linear_schedule_with_warmup(\n",
    "    enhanced_optimizer,\n",
    "    num_warmup_steps=warmup_steps,\n",
    "    num_training_steps=total_steps\n",
    ")\n",
    "\n",
    "# Initialize early stopping\n",
    "enhanced_early_stopping = EarlyStopping(\n",
    "    patience=2,\n",
    "    max_checkpoints=3,\n",
    "    num_epochs=num_epochs\n",
    ")\n",
    "\n",
    "# Training loop\n",
    "print(\"\\nStarting training on enhanced dataset...\")\n",
    "best_val_loss = float('inf')\n",
    "enhanced_training_metrics = []\n",
    "\n",
    "for epoch in range(num_epochs):\n",
    "    print(f\"\\nEpoch {epoch + 1}/{num_epochs}\")\n",
    "    \n",
    "    # Training\n",
    "    train_loss, train_acc = train_epoch(\n",
    "        enhanced_model, enhanced_train_dataloader, enhanced_optimizer, enhanced_scheduler,\n",
    "        device, max_grad_norm, gradient_accumulation_steps,\n",
    "        epoch, writer\n",
    "    )\n",
    "    \n",
    "    # Evaluation\n",
    "    val_loss, val_acc = evaluate(enhanced_model, val_dataloader, device, epoch, writer)\n",
    "    \n",
    "    # Save metrics\n",
    "    epoch_metrics = {\n",
    "        'epoch': epoch,\n",
    "        'train_loss': train_loss,\n",
    "        'val_loss': val_loss,\n",
    "        'train_acc': train_acc,\n",
    "        'val_acc': val_acc,\n",
    "        'learning_rate': enhanced_scheduler.get_last_lr()[0]\n",
    "    }\n",
    "    enhanced_training_metrics.append(epoch_metrics)\n",
    "\n",
    "    # Early stopping check\n",
    "    if enhanced_early_stopping(val_loss, enhanced_model, enhanced_optimizer, \n",
    "                             enhanced_scheduler, epoch, checkpoint_dir, epoch_metrics):\n",
    "        print(\"\\nEarly stopping triggered!\")\n",
    "        break"
   ]
  },
  {
   "cell_type": "code",
   "execution_count": 87,
   "metadata": {},
   "outputs": [
    {
     "name": "stdout",
     "output_type": "stream",
     "text": [
      "Checkpoint salvat pentru epoca 1 în: ../models/distilbert/enhanced/checkpoints/checkpoint-epoch-0.pt\n"
     ]
    }
   ],
   "source": [
    "# Run this new cell\n",
    "checkpoint_dir = \"../models/distilbert/enhanced/checkpoints\"\n",
    "os.makedirs(checkpoint_dir, exist_ok=True)\n",
    "\n",
    "# Save checkpoint for epoch 1\n",
    "checkpoint = {\n",
    "    'epoch': 0,  # epoch 1 (0-based)\n",
    "    'model_state_dict': enhanced_model.state_dict(),\n",
    "    'optimizer_state_dict': enhanced_optimizer.state_dict(),\n",
    "    'scheduler_state_dict': enhanced_scheduler.state_dict(),\n",
    "    'val_loss': val_loss,\n",
    "    'is_best': False,\n",
    "    'metrics': enhanced_training_metrics[0]  # metrics for epoch 1\n",
    "}\n",
    "\n",
    "checkpoint_path = os.path.join(checkpoint_dir, f'checkpoint-epoch-0.pt')\n",
    "torch.save(checkpoint, checkpoint_path)\n",
    "print(f\"Checkpoint saved for epoch 1 in: {checkpoint_path}\")"
   ]
  },
  {
   "cell_type": "code",
   "execution_count": 90,
   "metadata": {},
   "outputs": [
    {
     "name": "stdout",
     "output_type": "stream",
     "text": [
      "\n",
      "Metrics from checkpoint:\n",
      "Epoch: 0\n",
      "Validation Loss: 0.3326\n",
      "Training Loss: 0.2148\n",
      "Training Accuracy: 0.9023\n",
      "Validation Accuracy: 0.9067\n",
      "Learning Rate: 0.000006\n"
     ]
    }
   ],
   "source": [
    "# Load checkpoint\n",
    "checkpoint_path = \"../models/distilbert/enhanced/checkpoints/checkpoint-epoch-0.pt\"\n",
    "checkpoint = torch.load(checkpoint_path)\n",
    "\n",
    "# Print metrics\n",
    "print(\"\\nMetrics from checkpoint:\")\n",
    "print(f\"Epoch: {checkpoint['epoch']}\")\n",
    "print(f\"Validation Loss: {checkpoint['val_loss']:.4f}\")\n",
    "print(f\"Training Loss: {checkpoint['metrics']['train_loss']:.4f}\")\n",
    "print(f\"Training Accuracy: {checkpoint['metrics']['train_acc']:.4f}\")\n",
    "print(f\"Validation Accuracy: {checkpoint['metrics']['val_acc']:.4f}\")\n",
    "print(f\"Learning Rate: {checkpoint['metrics']['learning_rate']:.6f}\")\n"
   ]
  },
  {
   "cell_type": "code",
   "execution_count": 91,
   "metadata": {},
   "outputs": [
    {
     "name": "stdout",
     "output_type": "stream",
     "text": [
      "\n",
      "Epoch 2/2\n"
     ]
    },
    {
     "data": {
      "application/vnd.jupyter.widget-view+json": {
       "model_id": "0b3ab2343a974833bd365ebe0af8b8fb",
       "version_major": 2,
       "version_minor": 0
      },
      "text/plain": [
       "Training:   0%|          | 0/3840 [00:00<?, ?it/s]"
      ]
     },
     "metadata": {},
     "output_type": "display_data"
    },
    {
     "data": {
      "application/vnd.jupyter.widget-view+json": {
       "model_id": "2050623605c649f594b7c05e7514c8af",
       "version_major": 2,
       "version_minor": 0
      },
      "text/plain": [
       "Evaluation:   0%|          | 0/235 [00:00<?, ?it/s]"
      ]
     },
     "metadata": {},
     "output_type": "display_data"
    },
    {
     "name": "stdout",
     "output_type": "stream",
     "text": [
      "Checkpoint saved: ../models/distilbert/enhanced/checkpoints/best_model.pt\n",
      "Checkpoint saved: ../models/distilbert/enhanced/checkpoints/checkpoint-epoch-1.pt\n"
     ]
    }
   ],
   "source": [
    "# Run this new cell\n",
    "print(f\"\\nEpoch 2/{num_epochs}\")\n",
    "\n",
    "# Training\n",
    "train_loss, train_acc = train_epoch(\n",
    "    enhanced_model, enhanced_train_dataloader, enhanced_optimizer, enhanced_scheduler,\n",
    "    device, max_grad_norm, gradient_accumulation_steps,\n",
    "    1, writer  # epoch = 1 for second epoch\n",
    ")\n",
    "\n",
    "# Evaluation\n",
    "val_loss, val_acc = evaluate(enhanced_model, val_dataloader, device, 1, writer)\n",
    "\n",
    "# Save metrics\n",
    "epoch_metrics = {\n",
    "    'epoch': 1,\n",
    "    'train_loss': train_loss,\n",
    "    'val_loss': val_loss,\n",
    "    'train_acc': train_acc,\n",
    "    'val_acc': val_acc,\n",
    "    'learning_rate': enhanced_scheduler.get_last_lr()[0]\n",
    "}\n",
    "enhanced_training_metrics.append(epoch_metrics)\n",
    "\n",
    "# Early stopping check\n",
    "if enhanced_early_stopping(val_loss, enhanced_model, enhanced_optimizer, \n",
    "                         enhanced_scheduler, 1, checkpoint_dir, epoch_metrics):\n",
    "    print(\"\\nEarly stopping triggered!\")"
   ]
  },
  {
   "cell_type": "code",
   "execution_count": 92,
   "metadata": {},
   "outputs": [
    {
     "name": "stdout",
     "output_type": "stream",
     "text": [
      "\n",
      "Evaluating enhanced model...\n"
     ]
    },
    {
     "data": {
      "application/vnd.jupyter.widget-view+json": {
       "model_id": "1ad2d4aad0cc49e69f16dbf93e58f6f0",
       "version_major": 2,
       "version_minor": 0
      },
      "text/plain": [
       "Final evaluation:   0%|          | 0/235 [00:00<?, ?it/s]"
      ]
     },
     "metadata": {},
     "output_type": "display_data"
    },
    {
     "name": "stdout",
     "output_type": "stream",
     "text": [
      "\n",
      "Enhanced Model Performance:\n",
      "Accuracy: 0.9104\n",
      "Macro-F1: 0.9103\n"
     ]
    }
   ],
   "source": [
    "# Cell 29: Evaluate Enhanced Model\n",
    "print(\"\\nEvaluating enhanced model...\")\n",
    "enhanced_predictions, enhanced_labels, enhanced_probs = evaluate_final(\n",
    "    enhanced_model, test_dataloader, device\n",
    ")\n",
    "\n",
    "# Calculate metrics\n",
    "enhanced_accuracy = accuracy_score(enhanced_labels, enhanced_predictions)\n",
    "enhanced_precision, enhanced_recall, enhanced_f1, _ = precision_recall_fscore_support(\n",
    "    enhanced_labels, enhanced_predictions, average=None\n",
    ")\n",
    "enhanced_macro_f1 = precision_recall_fscore_support(\n",
    "    enhanced_labels, enhanced_predictions, average='macro'\n",
    ")[2]\n",
    "\n",
    "print(\"\\nEnhanced Model Performance:\")\n",
    "print(f\"Accuracy: {enhanced_accuracy:.4f}\")\n",
    "print(f\"Macro-F1: {enhanced_macro_f1:.4f}\")"
   ]
  },
  {
   "cell_type": "code",
   "execution_count": 93,
   "metadata": {},
   "outputs": [
    {
     "name": "stdout",
     "output_type": "stream",
     "text": [
      "\n",
      "Saving enhanced model...\n",
      "\n",
      "Enhanced model and metrics saved successfully!\n",
      "Model saved in: ../models/distilbert/enhanced/model.pt\n",
      "Metrics saved in: ../models/distilbert/enhanced/metrics.json\n"
     ]
    }
   ],
   "source": [
    "# Cell 30: Save Enhanced Model\n",
    "print(\"\\nSaving enhanced model...\")\n",
    "\n",
    "# Create directory for enhanced model\n",
    "enhanced_model_dir = \"../models/distilbert/enhanced\"\n",
    "os.makedirs(enhanced_model_dir, exist_ok=True)\n",
    "\n",
    "# Save model\n",
    "enhanced_model_path = os.path.join(enhanced_model_dir, \"model.pt\")\n",
    "torch.save(enhanced_model.state_dict(), enhanced_model_path)\n",
    "\n",
    "# Save metrics\n",
    "enhanced_metrics = {\n",
    "    'test': {\n",
    "        'accuracy': float(enhanced_accuracy),\n",
    "        'precision': enhanced_precision.tolist(),\n",
    "        'recall': enhanced_recall.tolist(),\n",
    "        'f1_score': enhanced_f1.tolist(),\n",
    "        'macro_f1': float(enhanced_macro_f1)\n",
    "    },\n",
    "    'pseudo_labeling': {\n",
    "        'total_pseudo_labels': len(pseudo_labels),\n",
    "        'positive_pseudo_labels': int(np.sum(pseudo_labels == 1)),\n",
    "        'negative_pseudo_labels': int(np.sum(pseudo_labels == 0)),\n",
    "        'mean_confidence': float(np.mean(confidence_scores)),\n",
    "        'confidence_threshold': 0.85\n",
    "    },\n",
    "    'training_config': {\n",
    "        'batch_size': batch_size,\n",
    "        'num_epochs': num_epochs,\n",
    "        'learning_rate': learning_rate,\n",
    "        'weight_decay': weight_decay,\n",
    "        'max_length': max_length,\n",
    "        'gradient_accumulation_steps': gradient_accumulation_steps\n",
    "    },\n",
    "    'timestamp': datetime.now().strftime('%Y-%m-%d %H:%M:%S')\n",
    "}\n",
    "\n",
    "enhanced_metrics_path = os.path.join(enhanced_model_dir, \"metrics.json\")\n",
    "with open(enhanced_metrics_path, 'w') as f:\n",
    "    json.dump(enhanced_metrics, f, indent=4)\n",
    "\n",
    "print(\"\\nEnhanced model and metrics saved successfully!\")\n",
    "print(f\"Model saved in: {enhanced_model_path}\")\n",
    "print(f\"Metrics saved in: {enhanced_metrics_path}\")"
   ]
  },
  {
   "cell_type": "markdown",
   "metadata": {},
   "source": [
    "# Cell 31: Enhanced Model Conclusions\n",
    "\n",
    "## Performance Comparison\n",
    "- Original Model:\n",
    "  * Accuracy: 0.8979\n",
    "  * Macro-F1: 0.8974\n",
    "  * ROC-AUC: 0.9716\n",
    "  * PR-AUC: 0.9701\n",
    "- Enhanced Model:\n",
    "  * Accuracy: 0.9104\n",
    "  * Macro-F1: 0.9103\n",
    "  * Improvement: +1.25% accuracy, +1.29% Macro-F1\n",
    "\n",
    "## Training Progress\n",
    "- Epoch 1:\n",
    "  * Training Loss: 0.1617\n",
    "  * Training Accuracy: 90.23%\n",
    "  * Validation Loss: 0.0071\n",
    "  * Validation Accuracy: 90.67%\n",
    "- Epoch 2:\n",
    "  * Training Loss: 0.1037\n",
    "  * Training Accuracy: 97.52%\n",
    "  * Validation Loss: 0.0051\n",
    "  * Validation Accuracy: 90.99%\n",
    "\n",
    "## Pseudo-Labeling Results\n",
    "- Total pseudo-labels: 43,936 (from 50,000 unlabeled examples)\n",
    "- Positive examples: 18,731 (42.6%)\n",
    "- Negative examples: 25,205 (57.4%)\n",
    "- Average confidence: 0.9753\n",
    "- Confidence range: 0.8500 - 0.9954\n",
    "- Median confidence: 0.9880\n",
    "\n",
    "## Dataset Statistics\n",
    "- Original training set: 17,500 examples\n",
    "- Pseudo-labeled set: 43,936 examples\n",
    "- Enhanced dataset: 61,436 examples (3.5x larger)\n",
    "- Confidence threshold: 0.85\n",
    "\n",
    "## Key Findings\n",
    "1. Model Performance:\n",
    "   * Consistent improvement across all metrics\n",
    "   * Strong validation accuracy (90.99%)\n",
    "   * Stable training with decreasing loss\n",
    "\n",
    "2. Pseudo-Labeling Quality:\n",
    "   * High confidence scores (mean: 0.9753)\n",
    "   * Balanced class distribution\n",
    "   * 87.9% of unlabeled data used (43,936/50,000)\n",
    "\n",
    "## Recommendations\n",
    "1. Monitor model performance in production\n",
    "2. Consider periodic retraining with new data\n",
    "3. Maintain current confidence threshold (0.85)\n",
    "4. Track distribution of predictions over time\n",
    "5. Implement automated performance monitoring"
   ]
  }
 ],
 "metadata": {
  "kernelspec": {
   "display_name": "venv",
   "language": "python",
   "name": "python3"
  },
  "language_info": {
   "codemirror_mode": {
    "name": "ipython",
    "version": 3
   },
   "file_extension": ".py",
   "mimetype": "text/x-python",
   "name": "python",
   "nbconvert_exporter": "python",
   "pygments_lexer": "ipython3",
   "version": "3.12.7"
  }
 },
 "nbformat": 4,
 "nbformat_minor": 2
}
